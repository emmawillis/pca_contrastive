{
 "cells": [
  {
   "cell_type": "markdown",
   "id": "da8455f0",
   "metadata": {},
   "source": [
    "# MRI vs MRI+Histo-Aligned: UMAP & Silhouette Comparison\n",
    "\n",
    "This notebook loads **two** MRI encoding datasets (e.g., baseline MRI vs MRI aligned with histopathology), projects both to 2D with UMAP using the same hyperparameters & color palette (if found in your histopath notebook), computes silhouette scores on the **full encodings** and **UMAP-2D** for each, and displays side-by-side UMAP plots."
   ]
  },
  {
   "cell_type": "code",
   "execution_count": null,
   "id": "17c775d8",
   "metadata": {},
   "outputs": [],
   "source": [
    "# --- Paths (EDIT ME) ---\n",
    "ENC_DIR_A = \"/project/aip-medilab/ewillis/pca_contrastive/mri_model_medsam_finetune_2D/results1024/baseline/encodings/encodings_val_f0\"\n",
    "ENC_DIR_B = \"/project/aip-medilab/ewillis/pca_contrastive/mri_model_medsam_finetune_2D/results1024/head_only/encodings/encodings_val_f0\"\n",
    "NAME_A = \"Baseline MRI\"\n",
    "NAME_B = \"MRI Histo-aligned\"\n",
    "\n",
    "EMB_A = f\"{ENC_DIR_A}/val_embeddings.npy\"\n",
    "LAB_A = f\"{ENC_DIR_A}/val_labels.npy\"\n",
    "META_A = f\"{ENC_DIR_A}/val_metadata.csv\"\n",
    "\n",
    "EMB_B = f\"{ENC_DIR_B}/val_embeddings.npy\"\n",
    "LAB_B = f\"{ENC_DIR_B}/val_labels.npy\"\n",
    "META_B = f\"{ENC_DIR_B}/val_metadata.csv\"\n",
    "\n",
    "# --- UMAP hyperparameters (auto-extracted when possible, else defaults) ---\n",
    "UMAP_PARAMS = {\n",
    "  \"n_neighbors\": 15,\n",
    "  \"min_dist\": 0.1,\n",
    "  \"metric\": \"cosine\",\n",
    "  \"random_state\": 42,\n",
    "  \"n_components\": 2\n",
    "}\n",
    "\n",
    "# --- Color palette ---\n",
    "# If a palette was found in the histopath notebook, it's injected below. Otherwise a default is built at runtime per label id.\n",
    "COLORS = None  # will be built based on labels if None"
   ]
  },
  {
   "cell_type": "code",
   "execution_count": 2,
   "id": "923e70cb",
   "metadata": {},
   "outputs": [
    {
     "name": "stderr",
     "output_type": "stream",
     "text": [
      "/project/aip-medilab/ewillis/new_medsam_triplet/picai/lib/python3.11/site-packages/tqdm/auto.py:21: TqdmWarning: IProgress not found. Please update jupyter and ipywidgets. See https://ipywidgets.readthedocs.io/en/stable/user_install.html\n",
      "  from .autonotebook import tqdm as notebook_tqdm\n"
     ]
    }
   ],
   "source": [
    "import numpy as np\n",
    "import pandas as pd\n",
    "import matplotlib.pyplot as plt\n",
    "from sklearn.preprocessing import StandardScaler\n",
    "from sklearn.metrics import silhouette_score\n",
    "try:\n",
    "    import umap.umap_ as umap\n",
    "except Exception as e:\n",
    "    raise RuntimeError(\"Please install umap-learn: pip install umap-learn\")\n"
   ]
  },
  {
   "cell_type": "code",
   "execution_count": 3,
   "id": "c8b26b81",
   "metadata": {},
   "outputs": [],
   "source": [
    "def load_encodings(emb_path, lab_path, meta_path):\n",
    "    emb = np.load(emb_path)\n",
    "    labels = np.load(lab_path)\n",
    "    meta = pd.read_csv(meta_path)\n",
    "    assert emb.shape[0] == labels.shape[0] == len(meta), \"Row count mismatch among embeddings/labels/meta\"\n",
    "    return emb, labels, meta\n",
    "\n",
    "def build_palette(labels, COLORS=None):\n",
    "    uniq = sorted(pd.unique(labels))\n",
    "    label_names_6 = {0: 'ISUP_0', 1:'ISUP_1', 2:'ISUP_2', 3:'ISUP_3', 4:'ISUP_4', 5:'ISUP_5'}\n",
    "    label_names_3 = {0: 'ISUP01', 1:'ISUP23', 2:'ISUP45'}\n",
    "    label_names = label_names_3 if len(uniq) <= 3 else label_names_6\n",
    "    if isinstance(COLORS, dict) and len(COLORS) > 0:\n",
    "        from itertools import cycle\n",
    "        default_colors = cycle(plt.rcParams['axes.prop_cycle'].by_key().get('color', []))\n",
    "        palette = {int(k): COLORS.get(int(k), None) for k in uniq}\n",
    "        for k in uniq:\n",
    "            if palette[int(k)] is None:\n",
    "                palette[int(k)] = next(default_colors)\n",
    "    else:\n",
    "        from itertools import cycle\n",
    "        cyc = cycle(plt.rcParams['axes.prop_cycle'].by_key().get('color', []))\n",
    "        palette = {int(k): next(cyc) for k in uniq}\n",
    "    return palette, label_names\n"
   ]
  },
  {
   "cell_type": "code",
   "execution_count": 4,
   "id": "a133f106",
   "metadata": {},
   "outputs": [
    {
     "ename": "FileNotFoundError",
     "evalue": "[Errno 2] No such file or directory: '/project/aip-medilab/ewillis/pca_contrastive/mri_model_medsam_finetune_2D/results1024/baseline/encodings_val_f0/val_embeddings.npy'",
     "output_type": "error",
     "traceback": [
      "\u001b[31m---------------------------------------------------------------------------\u001b[39m",
      "\u001b[31mFileNotFoundError\u001b[39m                         Traceback (most recent call last)",
      "\u001b[36mCell\u001b[39m\u001b[36m \u001b[39m\u001b[32mIn[4]\u001b[39m\u001b[32m, line 2\u001b[39m\n\u001b[32m      1\u001b[39m \u001b[38;5;66;03m# --- Load both datasets ---\u001b[39;00m\n\u001b[32m----> \u001b[39m\u001b[32m2\u001b[39m embA, yA, metaA = \u001b[43mload_encodings\u001b[49m\u001b[43m(\u001b[49m\u001b[43mEMB_A\u001b[49m\u001b[43m,\u001b[49m\u001b[43m \u001b[49m\u001b[43mLAB_A\u001b[49m\u001b[43m,\u001b[49m\u001b[43m \u001b[49m\u001b[43mMETA_A\u001b[49m\u001b[43m)\u001b[49m\n\u001b[32m      3\u001b[39m embB, yB, metaB = load_encodings(EMB_B, LAB_B, META_B)\n\u001b[32m      4\u001b[39m \u001b[38;5;28mprint\u001b[39m(NAME_A, embA.shape, \u001b[33m'\u001b[39m\u001b[33m|\u001b[39m\u001b[33m'\u001b[39m, NAME_B, embB.shape)\n",
      "\u001b[36mCell\u001b[39m\u001b[36m \u001b[39m\u001b[32mIn[3]\u001b[39m\u001b[32m, line 2\u001b[39m, in \u001b[36mload_encodings\u001b[39m\u001b[34m(emb_path, lab_path, meta_path)\u001b[39m\n\u001b[32m      1\u001b[39m \u001b[38;5;28;01mdef\u001b[39;00m\u001b[38;5;250m \u001b[39m\u001b[34mload_encodings\u001b[39m(emb_path, lab_path, meta_path):\n\u001b[32m----> \u001b[39m\u001b[32m2\u001b[39m     emb = \u001b[43mnp\u001b[49m\u001b[43m.\u001b[49m\u001b[43mload\u001b[49m\u001b[43m(\u001b[49m\u001b[43memb_path\u001b[49m\u001b[43m)\u001b[49m\n\u001b[32m      3\u001b[39m     labels = np.load(lab_path)\n\u001b[32m      4\u001b[39m     meta = pd.read_csv(meta_path)\n",
      "\u001b[36mFile \u001b[39m\u001b[32m/project/aip-medilab/ewillis/new_medsam_triplet/picai/lib/python3.11/site-packages/numpy/lib/_npyio_impl.py:451\u001b[39m, in \u001b[36mload\u001b[39m\u001b[34m(file, mmap_mode, allow_pickle, fix_imports, encoding, max_header_size)\u001b[39m\n\u001b[32m    449\u001b[39m     own_fid = \u001b[38;5;28;01mFalse\u001b[39;00m\n\u001b[32m    450\u001b[39m \u001b[38;5;28;01melse\u001b[39;00m:\n\u001b[32m--> \u001b[39m\u001b[32m451\u001b[39m     fid = stack.enter_context(\u001b[38;5;28;43mopen\u001b[39;49m\u001b[43m(\u001b[49m\u001b[43mos\u001b[49m\u001b[43m.\u001b[49m\u001b[43mfspath\u001b[49m\u001b[43m(\u001b[49m\u001b[43mfile\u001b[49m\u001b[43m)\u001b[49m\u001b[43m,\u001b[49m\u001b[43m \u001b[49m\u001b[33;43m\"\u001b[39;49m\u001b[33;43mrb\u001b[39;49m\u001b[33;43m\"\u001b[39;49m\u001b[43m)\u001b[49m)\n\u001b[32m    452\u001b[39m     own_fid = \u001b[38;5;28;01mTrue\u001b[39;00m\n\u001b[32m    454\u001b[39m \u001b[38;5;66;03m# Code to distinguish from NumPy binary files and pickles.\u001b[39;00m\n",
      "\u001b[31mFileNotFoundError\u001b[39m: [Errno 2] No such file or directory: '/project/aip-medilab/ewillis/pca_contrastive/mri_model_medsam_finetune_2D/results1024/baseline/encodings_val_f0/val_embeddings.npy'"
     ]
    }
   ],
   "source": [
    "# --- Load both datasets ---\n",
    "embA, yA, metaA = load_encodings(EMB_A, LAB_A, META_A)\n",
    "embB, yB, metaB = load_encodings(EMB_B, LAB_B, META_B)\n",
    "print(NAME_A, embA.shape, '|', NAME_B, embB.shape)\n",
    "assert set(pd.unique(yA)) == set(pd.unique(yB)), \"Label sets differ; palette may misalign. Consider remapping.\"\n",
    "labels_all = sorted(set(pd.unique(yA)))\n"
   ]
  },
  {
   "cell_type": "code",
   "execution_count": null,
   "id": "ad91515d",
   "metadata": {},
   "outputs": [],
   "source": [
    "# --- Build a single palette for both datasets to keep colors consistent ---\n",
    "palette, label_names = build_palette(np.array(labels_all), COLORS if 'COLORS' in globals() else None)\n",
    "palette"
   ]
  },
  {
   "cell_type": "code",
   "execution_count": null,
   "id": "648e7b1d",
   "metadata": {},
   "outputs": [],
   "source": [
    "# --- Silhouette on FULL encodings (each dataset standardized separately) ---\n",
    "scA = StandardScaler(); XA = scA.fit_transform(embA)\n",
    "scB = StandardScaler(); XB = scB.fit_transform(embB)\n",
    "silA_euc_full = silhouette_score(XA, yA, metric='euclidean')\n",
    "silA_cos_full = silhouette_score(XA, yA, metric='cosine')\n",
    "silB_euc_full = silhouette_score(XB, yB, metric='euclidean')\n",
    "silB_cos_full = silhouette_score(XB, yB, metric='cosine')\n",
    "print(NAME_A, f\"FULL (cos): {silA_cos_full:.3f} | (euc): {silA_euc_full:.3f}\")\n",
    "print(NAME_B, f\"FULL (cos): {silB_cos_full:.3f} | (euc): {silB_euc_full:.3f}\")"
   ]
  },
  {
   "cell_type": "code",
   "execution_count": null,
   "id": "7d0d8b59",
   "metadata": {},
   "outputs": [],
   "source": [
    "# --- UMAP to 2D (fit separately for each dataset with identical hyperparameters) ---\n",
    "reducerA = umap.UMAP(**UMAP_PARAMS)\n",
    "reducerB = umap.UMAP(**UMAP_PARAMS)\n",
    "XA2 = reducerA.fit_transform(XA)\n",
    "XB2 = reducerB.fit_transform(XB)\n",
    "silA_euc_2d = silhouette_score(XA2, yA, metric='euclidean')\n",
    "silA_cos_2d = silhouette_score(XA2, yA, metric='cosine')\n",
    "silB_euc_2d = silhouette_score(XB2, yB, metric='euclidean')\n",
    "silB_cos_2d = silhouette_score(XB2, yB, metric='cosine')\n",
    "print(NAME_A, f\"UMAP2D (cos): {silA_cos_2d:.3f} | (euc): {silA_euc_2d:.3f}\")\n",
    "print(NAME_B, f\"UMAP2D (cos): {silB_cos_2d:.3f} | (euc): {silB_euc_2d:.3f}\")"
   ]
  },
  {
   "cell_type": "code",
   "execution_count": null,
   "id": "5e6ee000",
   "metadata": {},
   "outputs": [],
   "source": [
    "# --- Side-by-side UMAP plots ---\n",
    "fig, axes = plt.subplots(1, 2, figsize=(13,6), sharex=False, sharey=False)\n",
    "for ax, X2, y, name in [(axes[0], XA2, yA, NAME_A), (axes[1], XB2, yB, NAME_B)]:\n",
    "    for k in sorted(pd.unique(y)):\n",
    "        m = (y == k)\n",
    "        ax.scatter(X2[m,0], X2[m,1], s=6, alpha=0.8, label=label_names.get(int(k), str(k)), c=palette[int(k)])\n",
    "    ax.set_title(f\"{name}\")\n",
    "    ax.set_xlabel('UMAP-1'); ax.set_ylabel('UMAP-2')\n",
    "    ax.legend(markerscale=3, frameon=False, loc='best')\n",
    "plt.tight_layout()\n",
    "plt.savefig(f\"{ENC_DIR_A}/compare_umap_side_by_side.png\", dpi=200)\n",
    "plt.show()"
   ]
  },
  {
   "cell_type": "code",
   "execution_count": null,
   "id": "af46119f",
   "metadata": {},
   "outputs": [],
   "source": [
    "# --- Summary table ---\n",
    "summary = pd.DataFrame([\n",
    "    [NAME_A, 'full', 'cosine',    silA_cos_full],\n",
    "    [NAME_A, 'full', 'euclidean', silA_euc_full],\n",
    "    [NAME_A, 'umap2d', 'cosine',    silA_cos_2d],\n",
    "    [NAME_A, 'umap2d', 'euclidean', silA_euc_2d],\n",
    "    [NAME_B, 'full', 'cosine',    silB_cos_full],\n",
    "    [NAME_B, 'full', 'euclidean', silB_euc_full],\n",
    "    [NAME_B, 'umap2d', 'cosine',    silB_cos_2d],\n",
    "    [NAME_B, 'umap2d', 'euclidean', silB_euc_2d],\n",
    "], columns=['dataset','space','metric','silhouette'])\n",
    "summary_pivot = summary.pivot_table(index='dataset', columns=['space','metric'], values='silhouette')\n",
    "display(summary_pivot)\n",
    "summary.to_csv(f\"{ENC_DIR_A}/compare_umap_silhouette_raw.csv\", index=False)\n",
    "summary_pivot.to_csv(f\"{ENC_DIR_A}/compare_umap_silhouette_wide.csv\")\n",
    "summary_pivot"
   ]
  },
  {
   "cell_type": "code",
   "execution_count": null,
   "id": "359c7ef8",
   "metadata": {},
   "outputs": [],
   "source": []
  }
 ],
 "metadata": {
  "kernelspec": {
   "display_name": "picai",
   "language": "python",
   "name": "python3"
  },
  "language_info": {
   "codemirror_mode": {
    "name": "ipython",
    "version": 3
   },
   "file_extension": ".py",
   "mimetype": "text/x-python",
   "name": "python",
   "nbconvert_exporter": "python",
   "pygments_lexer": "ipython3",
   "version": "3.11.4"
  }
 },
 "nbformat": 4,
 "nbformat_minor": 5
}
