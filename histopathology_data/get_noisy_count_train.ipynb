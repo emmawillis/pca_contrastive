{
 "cells": [
  {
   "cell_type": "code",
   "execution_count": 3,
   "metadata": {},
   "outputs": [],
   "source": [
    "csv = \"/Users/emma/Desktop/QUEENS/THESIS/contrastive/histopathology/data/train_noisy_labels.csv\" #path to the csv file with 'noisy' flags from \n",
    "column = None #Specific column to use (e.g., noise_ratio_10). If omitted, run all noise_ratio_*\n",
    "target = 9555 #expected # kept samples after filtering\n",
    "\n",
    "#see noisy_labels_note.txt\n",
    "# Got noisy labels from this kaggle discussion:\n",
    "# https://www.kaggle.com/competitions/prostate-cancer-grade-assessment/writeups/barelybears-6th-place-solution-noise-robust-learni\n",
    "\n",
    "# and this github repo:\n",
    "# https://github.com/analokmaus/kaggle-panda-challenge-public\n"
   ]
  },
  {
   "cell_type": "code",
   "execution_count": 4,
   "metadata": {},
   "outputs": [
    {
     "name": "stdout",
     "output_type": "stream",
     "text": [
      "Total rows: 10616\n",
      "Target kept: 9555\n",
      "\n",
      "noise_ratio_10    omitted= 1061, kept= 9555  (Δ kept vs 9555: +0)\n",
      "noise_ratio_15    omitted= 1592, kept= 9024  (Δ kept vs 9555: -531)\n",
      "noise_ratio_20    omitted= 2123, kept= 8493  (Δ kept vs 9555: -1062)\n",
      "noise_ratio_5     omitted=  530, kept=10086  (Δ kept vs 9555: +531)\n"
     ]
    }
   ],
   "source": [
    "#!/usr/bin/env python3\n",
    "import argparse\n",
    "import pandas as pd\n",
    "\n",
    "#Count how many rows would be omitted/kept by each noise_ratio_* column\n",
    "\n",
    "df = pd.read_csv(csv)\n",
    "# Find candidate columns\n",
    "if column:\n",
    "    cols = [column]\n",
    "    if column not in df.columns:\n",
    "        raise SystemExit(f\"Column '{column}' not found in CSV.\")\n",
    "else:\n",
    "    cols = sorted([c for c in df.columns if c.startswith(\"noise_ratio_\")])\n",
    "    if not cols:\n",
    "        raise SystemExit(\"No columns starting with 'noise_ratio_' found.\")\n",
    "\n",
    "total = len(df)\n",
    "print(f\"Total rows: {total}\\nTarget kept: {target}\\n\")\n",
    "\n",
    "for col in cols:\n",
    "    s = df[col].fillna(0)\n",
    "    # Treat >0 as flagged noisy → omit\n",
    "    omitted = int((s == 0).sum())\n",
    "    kept = total - omitted\n",
    "    delta = kept - target\n",
    "    sign = \"+\" if delta >= 0 else \"-\"\n",
    "    print(f\"{col:16s}  omitted={omitted:5d}, kept={kept:5d}  (Δ kept vs {target}: {sign}{abs(delta)})\")\n",
    "\n"
   ]
  },
  {
   "cell_type": "code",
   "execution_count": 6,
   "metadata": {},
   "outputs": [
    {
     "data": {
      "text/plain": [
       "0.9000565184626979"
      ]
     },
     "execution_count": 6,
     "metadata": {},
     "output_type": "execute_result"
    }
   ],
   "source": [
    "9555 / (1061 + 9555 )"
   ]
  },
  {
   "cell_type": "code",
   "execution_count": null,
   "metadata": {},
   "outputs": [],
   "source": []
  }
 ],
 "metadata": {
  "kernelspec": {
   "display_name": "picai",
   "language": "python",
   "name": "python3"
  },
  "language_info": {
   "codemirror_mode": {
    "name": "ipython",
    "version": 3
   },
   "file_extension": ".py",
   "mimetype": "text/x-python",
   "name": "python",
   "nbconvert_exporter": "python",
   "pygments_lexer": "ipython3",
   "version": "3.10.16"
  }
 },
 "nbformat": 4,
 "nbformat_minor": 2
}
